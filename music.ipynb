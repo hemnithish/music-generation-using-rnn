{
 "cells": [
  {
   "cell_type": "code",
   "execution_count": 3,
   "id": "ff7e1b08",
   "metadata": {},
   "outputs": [
    {
     "name": "stdout",
     "output_type": "stream",
     "text": [
      "[71, 55, 59, 62, 71, 72, 67, 74, 72, 74]\n"
     ]
    }
   ],
   "source": [
    "import pretty_midi\n",
    "import os\n",
    "\n",
    "def load_midi_files(midi_dir):\n",
    "    midi_notes = []\n",
    "    for filename in os.listdir(midi_dir):\n",
    "        if filename.endswith('.mid') or filename.endswith('.midi'):  # Check for MIDI files\n",
    "            midi_path = os.path.join(midi_dir, filename)\n",
    "            midi_data = pretty_midi.PrettyMIDI(midi_path)\n",
    "            \n",
    "            # Iterate over each instrument in the MIDI file\n",
    "            for instrument in midi_data.instruments:\n",
    "                if instrument.is_drum == False:  # Ignore drums\n",
    "                    for note in instrument.notes:\n",
    "                        midi_notes.append(note.pitch)  # Collect pitch of notes\n",
    "    return midi_notes\n",
    "\n",
    "# Example usage:\n",
    "midi_dir = \"D:\\\\archive\"  # Path to your folder containing MIDI files\n",
    "notes = load_midi_files(midi_dir)\n",
    "\n",
    "# Print the first 10 notes to verify the result\n",
    "print(notes[:10])\n"
   ]
  },
  {
   "cell_type": "code",
   "execution_count": 4,
   "id": "e9a43231",
   "metadata": {},
   "outputs": [
    {
     "name": "stdout",
     "output_type": "stream",
     "text": [
      "Input shape: (814932, 100, 1)\n",
      "Output shape: (814932, 88)\n"
     ]
    }
   ],
   "source": [
    "import numpy as np\n",
    "from tensorflow.keras.utils import to_categorical\n",
    "\n",
    "# Prepare sequences of notes and their corresponding targets\n",
    "def prepare_sequences(notes, seq_length=100):\n",
    "    # Get unique pitch names (the notes that appear in your dataset)\n",
    "    pitch_names = sorted(set(notes))\n",
    "    \n",
    "    # Create a mapping from pitch name to integer\n",
    "    note_to_int = {note: number for number, note in enumerate(pitch_names)}\n",
    "    int_to_note = {number: note for note, number in note_to_int.items()}\n",
    "\n",
    "    # Prepare input sequences and output targets\n",
    "    sequences = []\n",
    "    targets = []\n",
    "    for i in range(len(notes) - seq_length):\n",
    "        seq_in = notes[i:i+seq_length]\n",
    "        seq_out = notes[i+seq_length]\n",
    "        sequences.append([note_to_int[note] for note in seq_in])\n",
    "        targets.append(note_to_int[seq_out])\n",
    "    \n",
    "    # Reshape and normalize input sequences\n",
    "    X = np.reshape(sequences, (len(sequences), seq_length, 1)) / float(len(pitch_names))\n",
    "    \n",
    "    # One-hot encode the output targets\n",
    "    y = to_categorical(targets, num_classes=len(pitch_names))\n",
    "    \n",
    "    return X, y, int_to_note\n",
    "\n",
    "# Example usage\n",
    "seq_length = 100  # Length of each sequence\n",
    "X, y, int_to_note = prepare_sequences(notes, seq_length)\n",
    "\n",
    "# Check the shape of the input data\n",
    "print(f\"Input shape: {X.shape}\")\n",
    "print(f\"Output shape: {y.shape}\")\n"
   ]
  },
  {
   "cell_type": "code",
   "execution_count": 5,
   "id": "e528b404",
   "metadata": {},
   "outputs": [
    {
     "data": {
      "text/html": [
       "<pre style=\"white-space:pre;overflow-x:auto;line-height:normal;font-family:Menlo,'DejaVu Sans Mono',consolas,'Courier New',monospace\"><span style=\"font-weight: bold\">Model: \"sequential\"</span>\n",
       "</pre>\n"
      ],
      "text/plain": [
       "\u001b[1mModel: \"sequential\"\u001b[0m\n"
      ]
     },
     "metadata": {},
     "output_type": "display_data"
    },
    {
     "data": {
      "text/html": [
       "<pre style=\"white-space:pre;overflow-x:auto;line-height:normal;font-family:Menlo,'DejaVu Sans Mono',consolas,'Courier New',monospace\">┏━━━━━━━━━━━━━━━━━━━━━━━━━━━━━━━━━┳━━━━━━━━━━━━━━━━━━━━━━━━┳━━━━━━━━━━━━━━━┓\n",
       "┃<span style=\"font-weight: bold\"> Layer (type)                    </span>┃<span style=\"font-weight: bold\"> Output Shape           </span>┃<span style=\"font-weight: bold\">       Param # </span>┃\n",
       "┡━━━━━━━━━━━━━━━━━━━━━━━━━━━━━━━━━╇━━━━━━━━━━━━━━━━━━━━━━━━╇━━━━━━━━━━━━━━━┩\n",
       "│ lstm (<span style=\"color: #0087ff; text-decoration-color: #0087ff\">LSTM</span>)                     │ (<span style=\"color: #00d7ff; text-decoration-color: #00d7ff\">None</span>, <span style=\"color: #00af00; text-decoration-color: #00af00\">100</span>, <span style=\"color: #00af00; text-decoration-color: #00af00\">512</span>)       │     <span style=\"color: #00af00; text-decoration-color: #00af00\">1,052,672</span> │\n",
       "├─────────────────────────────────┼────────────────────────┼───────────────┤\n",
       "│ dropout (<span style=\"color: #0087ff; text-decoration-color: #0087ff\">Dropout</span>)               │ (<span style=\"color: #00d7ff; text-decoration-color: #00d7ff\">None</span>, <span style=\"color: #00af00; text-decoration-color: #00af00\">100</span>, <span style=\"color: #00af00; text-decoration-color: #00af00\">512</span>)       │             <span style=\"color: #00af00; text-decoration-color: #00af00\">0</span> │\n",
       "├─────────────────────────────────┼────────────────────────┼───────────────┤\n",
       "│ lstm_1 (<span style=\"color: #0087ff; text-decoration-color: #0087ff\">LSTM</span>)                   │ (<span style=\"color: #00d7ff; text-decoration-color: #00d7ff\">None</span>, <span style=\"color: #00af00; text-decoration-color: #00af00\">512</span>)            │     <span style=\"color: #00af00; text-decoration-color: #00af00\">2,099,200</span> │\n",
       "├─────────────────────────────────┼────────────────────────┼───────────────┤\n",
       "│ dropout_1 (<span style=\"color: #0087ff; text-decoration-color: #0087ff\">Dropout</span>)             │ (<span style=\"color: #00d7ff; text-decoration-color: #00d7ff\">None</span>, <span style=\"color: #00af00; text-decoration-color: #00af00\">512</span>)            │             <span style=\"color: #00af00; text-decoration-color: #00af00\">0</span> │\n",
       "├─────────────────────────────────┼────────────────────────┼───────────────┤\n",
       "│ dense (<span style=\"color: #0087ff; text-decoration-color: #0087ff\">Dense</span>)                   │ (<span style=\"color: #00d7ff; text-decoration-color: #00d7ff\">None</span>, <span style=\"color: #00af00; text-decoration-color: #00af00\">256</span>)            │       <span style=\"color: #00af00; text-decoration-color: #00af00\">131,328</span> │\n",
       "├─────────────────────────────────┼────────────────────────┼───────────────┤\n",
       "│ dense_1 (<span style=\"color: #0087ff; text-decoration-color: #0087ff\">Dense</span>)                 │ (<span style=\"color: #00d7ff; text-decoration-color: #00d7ff\">None</span>, <span style=\"color: #00af00; text-decoration-color: #00af00\">88</span>)             │        <span style=\"color: #00af00; text-decoration-color: #00af00\">22,616</span> │\n",
       "└─────────────────────────────────┴────────────────────────┴───────────────┘\n",
       "</pre>\n"
      ],
      "text/plain": [
       "┏━━━━━━━━━━━━━━━━━━━━━━━━━━━━━━━━━┳━━━━━━━━━━━━━━━━━━━━━━━━┳━━━━━━━━━━━━━━━┓\n",
       "┃\u001b[1m \u001b[0m\u001b[1mLayer (type)                   \u001b[0m\u001b[1m \u001b[0m┃\u001b[1m \u001b[0m\u001b[1mOutput Shape          \u001b[0m\u001b[1m \u001b[0m┃\u001b[1m \u001b[0m\u001b[1m      Param #\u001b[0m\u001b[1m \u001b[0m┃\n",
       "┡━━━━━━━━━━━━━━━━━━━━━━━━━━━━━━━━━╇━━━━━━━━━━━━━━━━━━━━━━━━╇━━━━━━━━━━━━━━━┩\n",
       "│ lstm (\u001b[38;5;33mLSTM\u001b[0m)                     │ (\u001b[38;5;45mNone\u001b[0m, \u001b[38;5;34m100\u001b[0m, \u001b[38;5;34m512\u001b[0m)       │     \u001b[38;5;34m1,052,672\u001b[0m │\n",
       "├─────────────────────────────────┼────────────────────────┼───────────────┤\n",
       "│ dropout (\u001b[38;5;33mDropout\u001b[0m)               │ (\u001b[38;5;45mNone\u001b[0m, \u001b[38;5;34m100\u001b[0m, \u001b[38;5;34m512\u001b[0m)       │             \u001b[38;5;34m0\u001b[0m │\n",
       "├─────────────────────────────────┼────────────────────────┼───────────────┤\n",
       "│ lstm_1 (\u001b[38;5;33mLSTM\u001b[0m)                   │ (\u001b[38;5;45mNone\u001b[0m, \u001b[38;5;34m512\u001b[0m)            │     \u001b[38;5;34m2,099,200\u001b[0m │\n",
       "├─────────────────────────────────┼────────────────────────┼───────────────┤\n",
       "│ dropout_1 (\u001b[38;5;33mDropout\u001b[0m)             │ (\u001b[38;5;45mNone\u001b[0m, \u001b[38;5;34m512\u001b[0m)            │             \u001b[38;5;34m0\u001b[0m │\n",
       "├─────────────────────────────────┼────────────────────────┼───────────────┤\n",
       "│ dense (\u001b[38;5;33mDense\u001b[0m)                   │ (\u001b[38;5;45mNone\u001b[0m, \u001b[38;5;34m256\u001b[0m)            │       \u001b[38;5;34m131,328\u001b[0m │\n",
       "├─────────────────────────────────┼────────────────────────┼───────────────┤\n",
       "│ dense_1 (\u001b[38;5;33mDense\u001b[0m)                 │ (\u001b[38;5;45mNone\u001b[0m, \u001b[38;5;34m88\u001b[0m)             │        \u001b[38;5;34m22,616\u001b[0m │\n",
       "└─────────────────────────────────┴────────────────────────┴───────────────┘\n"
      ]
     },
     "metadata": {},
     "output_type": "display_data"
    },
    {
     "data": {
      "text/html": [
       "<pre style=\"white-space:pre;overflow-x:auto;line-height:normal;font-family:Menlo,'DejaVu Sans Mono',consolas,'Courier New',monospace\"><span style=\"font-weight: bold\"> Total params: </span><span style=\"color: #00af00; text-decoration-color: #00af00\">3,305,816</span> (12.61 MB)\n",
       "</pre>\n"
      ],
      "text/plain": [
       "\u001b[1m Total params: \u001b[0m\u001b[38;5;34m3,305,816\u001b[0m (12.61 MB)\n"
      ]
     },
     "metadata": {},
     "output_type": "display_data"
    },
    {
     "data": {
      "text/html": [
       "<pre style=\"white-space:pre;overflow-x:auto;line-height:normal;font-family:Menlo,'DejaVu Sans Mono',consolas,'Courier New',monospace\"><span style=\"font-weight: bold\"> Trainable params: </span><span style=\"color: #00af00; text-decoration-color: #00af00\">3,305,816</span> (12.61 MB)\n",
       "</pre>\n"
      ],
      "text/plain": [
       "\u001b[1m Trainable params: \u001b[0m\u001b[38;5;34m3,305,816\u001b[0m (12.61 MB)\n"
      ]
     },
     "metadata": {},
     "output_type": "display_data"
    },
    {
     "data": {
      "text/html": [
       "<pre style=\"white-space:pre;overflow-x:auto;line-height:normal;font-family:Menlo,'DejaVu Sans Mono',consolas,'Courier New',monospace\"><span style=\"font-weight: bold\"> Non-trainable params: </span><span style=\"color: #00af00; text-decoration-color: #00af00\">0</span> (0.00 B)\n",
       "</pre>\n"
      ],
      "text/plain": [
       "\u001b[1m Non-trainable params: \u001b[0m\u001b[38;5;34m0\u001b[0m (0.00 B)\n"
      ]
     },
     "metadata": {},
     "output_type": "display_data"
    }
   ],
   "source": [
    "from tensorflow.keras.models import Sequential\n",
    "from tensorflow.keras.layers import LSTM, Dense, Dropout, Input\n",
    "\n",
    "def build_model(seq_length, n_vocab):\n",
    "    model = Sequential()\n",
    "    \n",
    "    # Use Input layer to define input shape\n",
    "    model.add(Input(shape=(seq_length, 1)))\n",
    "    \n",
    "    # First LSTM layer\n",
    "    model.add(LSTM(512, return_sequences=True))\n",
    "    model.add(Dropout(0.3))  # Dropout for regularization\n",
    "    \n",
    "    # Second LSTM layer\n",
    "    model.add(LSTM(512))\n",
    "    model.add(Dropout(0.3))  # Dropout for regularization\n",
    "    \n",
    "    # Dense layer\n",
    "    model.add(Dense(256))\n",
    "    \n",
    "    # Output layer with softmax activation\n",
    "    model.add(Dense(n_vocab, activation='softmax'))\n",
    "    \n",
    "    # Compile the model\n",
    "    model.compile(loss='categorical_crossentropy', optimizer='adam')\n",
    "    \n",
    "    return model\n",
    "\n",
    "# Example usage\n",
    "model = build_model(seq_length, len(int_to_note))\n",
    "model.summary()\n"
   ]
  },
  {
   "cell_type": "code",
   "execution_count": 7,
   "id": "20c6a828",
   "metadata": {},
   "outputs": [
    {
     "name": "stdout",
     "output_type": "stream",
     "text": [
      "Epoch 1/10\n",
      "\u001b[1m50/50\u001b[0m \u001b[32m━━━━━━━━━━━━━━━━━━━━\u001b[0m\u001b[37m\u001b[0m \u001b[1m57s\u001b[0m 1s/step - loss: 4.2513\n",
      "Epoch 2/10\n",
      "\u001b[1m50/50\u001b[0m \u001b[32m━━━━━━━━━━━━━━━━━━━━\u001b[0m\u001b[37m\u001b[0m \u001b[1m53s\u001b[0m 1s/step - loss: 4.0385\n",
      "Epoch 3/10\n",
      "\u001b[1m50/50\u001b[0m \u001b[32m━━━━━━━━━━━━━━━━━━━━\u001b[0m\u001b[37m\u001b[0m \u001b[1m70s\u001b[0m 1s/step - loss: 4.0794\n",
      "Epoch 4/10\n",
      "\u001b[1m50/50\u001b[0m \u001b[32m━━━━━━━━━━━━━━━━━━━━\u001b[0m\u001b[37m\u001b[0m \u001b[1m69s\u001b[0m 1s/step - loss: 4.0378\n",
      "Epoch 5/10\n",
      "\u001b[1m50/50\u001b[0m \u001b[32m━━━━━━━━━━━━━━━━━━━━\u001b[0m\u001b[37m\u001b[0m \u001b[1m73s\u001b[0m 1s/step - loss: 4.0174\n",
      "Epoch 6/10\n",
      "\u001b[1m50/50\u001b[0m \u001b[32m━━━━━━━━━━━━━━━━━━━━\u001b[0m\u001b[37m\u001b[0m \u001b[1m63s\u001b[0m 1s/step - loss: 3.9968\n",
      "Epoch 7/10\n",
      "\u001b[1m50/50\u001b[0m \u001b[32m━━━━━━━━━━━━━━━━━━━━\u001b[0m\u001b[37m\u001b[0m \u001b[1m67s\u001b[0m 1s/step - loss: 3.9502\n",
      "Epoch 8/10\n",
      "\u001b[1m50/50\u001b[0m \u001b[32m━━━━━━━━━━━━━━━━━━━━\u001b[0m\u001b[37m\u001b[0m \u001b[1m76s\u001b[0m 2s/step - loss: 3.9961\n",
      "Epoch 9/10\n",
      "\u001b[1m50/50\u001b[0m \u001b[32m━━━━━━━━━━━━━━━━━━━━\u001b[0m\u001b[37m\u001b[0m \u001b[1m73s\u001b[0m 1s/step - loss: 3.9257\n",
      "Epoch 10/10\n",
      "\u001b[1m50/50\u001b[0m \u001b[32m━━━━━━━━━━━━━━━━━━━━\u001b[0m\u001b[37m\u001b[0m \u001b[1m72s\u001b[0m 1s/step - loss: 3.9429\n"
     ]
    }
   ],
   "source": [
    "# Train the model\n",
    "def train_model(model, X, y, epochs=100, batch_size=32):\n",
    "    model.fit(X, y, epochs=epochs, batch_size=batch_size,steps_per_epoch=50)\n",
    "\n",
    "# Train for 50 epochs (adjust as needed)\n",
    "train_model(model, X, y, epochs=10, batch_size=32)\n",
    "\n"
   ]
  },
  {
   "cell_type": "code",
   "execution_count": 8,
   "id": "cfc6bc93",
   "metadata": {},
   "outputs": [
    {
     "name": "stdout",
     "output_type": "stream",
     "text": [
      "[41, 41, 44, 44, 44, 44, 44, 44, 44, 44]\n"
     ]
    }
   ],
   "source": [
    "import random\n",
    "\n",
    "# Generate music using the trained model\n",
    "def generate_music(model, int_to_note, seq_length, n_notes=500):\n",
    "    # Start with a random sequence from the training data\n",
    "    start_idx = random.randint(0, len(X) - 1)\n",
    "    pattern = X[start_idx]\n",
    "    prediction_notes = []\n",
    "    \n",
    "    # Predict the next notes\n",
    "    for _ in range(n_notes):\n",
    "        prediction_input = np.reshape(pattern, (1, len(pattern), 1)) / float(len(int_to_note))\n",
    "        prediction = model.predict(prediction_input, verbose=0)\n",
    "        index = np.argmax(prediction)\n",
    "        result_note = int_to_note[index]\n",
    "        prediction_notes.append(result_note)\n",
    "        \n",
    "        # Update the pattern with the predicted note\n",
    "        pattern = np.append(pattern[1:], index)\n",
    "    \n",
    "    return prediction_notes\n",
    "\n",
    "# Example usage to generate 500 notes\n",
    "prediction_notes = generate_music(model, int_to_note, seq_length, n_notes=500)\n",
    "\n",
    "# Print the generated notes (MIDI pitch values)\n",
    "print(prediction_notes[:10])  # Print first 10 generated notes\n"
   ]
  },
  {
   "cell_type": "code",
   "execution_count": 9,
   "id": "9e7a03e7",
   "metadata": {},
   "outputs": [
    {
     "name": "stdout",
     "output_type": "stream",
     "text": [
      "Saving the MIDI file to: D:/GeneratedMusic/generated_music1.mid\n",
      "Generated music saved as 'D:/GeneratedMusic/generated_music1.mid'\n"
     ]
    }
   ],
   "source": [
    "import pretty_midi\n",
    "\n",
    "def create_midi(prediction_notes, output_file='D:/GeneratedMusic/generated_music1.mid'):\n",
    "    # Check if directory exists and create it if not\n",
    "    import os\n",
    "    if not os.path.exists(os.path.dirname(output_file)):\n",
    "        print(\"Directory does not exist. Creating...\")\n",
    "        os.makedirs(os.path.dirname(output_file))\n",
    "\n",
    "    midi = pretty_midi.PrettyMIDI()\n",
    "\n",
    "    # Select a program number (instrument). 0 corresponds to Acoustic Grand Piano\n",
    "    instrument = pretty_midi.Instrument(program=0)  # 0 is for Acoustic Grand Piano\n",
    "\n",
    "    start_time = 0\n",
    "    for note in prediction_notes:\n",
    "        midi_note = pretty_midi.Note(velocity=100, pitch=note, start=start_time, end=start_time + 1)\n",
    "        instrument.notes.append(midi_note)\n",
    "        start_time += 1\n",
    "\n",
    "    midi.instruments.append(instrument)\n",
    "\n",
    "    # Save the MIDI file\n",
    "    print(f\"Saving the MIDI file to: {output_file}\")\n",
    "    try:\n",
    "        midi.write(output_file)\n",
    "        print(f\"Generated music saved as '{output_file}'\")\n",
    "    except Exception as e:\n",
    "        print(f\"Error saving the file: {e}\")\n",
    "\n",
    "# Example usage to save generated music to D drive\n",
    "create_midi(prediction_notes, output_file='D:/GeneratedMusic/generated_music1.mid')\n",
    "\n",
    "\n"
   ]
  },
  {
   "cell_type": "code",
   "execution_count": null,
   "id": "1ef6e893",
   "metadata": {},
   "outputs": [],
   "source": []
  }
 ],
 "metadata": {
  "kernelspec": {
   "display_name": "Python 3 (ipykernel)",
   "language": "python",
   "name": "python3"
  },
  "language_info": {
   "codemirror_mode": {
    "name": "ipython",
    "version": 3
   },
   "file_extension": ".py",
   "mimetype": "text/x-python",
   "name": "python",
   "nbconvert_exporter": "python",
   "pygments_lexer": "ipython3",
   "version": "3.11.7"
  }
 },
 "nbformat": 4,
 "nbformat_minor": 5
}
